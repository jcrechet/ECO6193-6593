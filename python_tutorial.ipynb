{
  "cells": [
    {
      "cell_type": "markdown",
      "metadata": {
        "id": "_zOVXmOVIOB3"
      },
      "source": [
        "ECO 6193/6593. Tutorial Python - Google Collab Notebook.\n",
        "\n",
        "First step: package importation."
      ]
    },
    {
      "cell_type": "code",
      "execution_count": null,
      "metadata": {
        "id": "-DP30DWP_dV0"
      },
      "outputs": [],
      "source": [
        "# import packages\n",
        "import numpy as np\n",
        "import scipy as sp\n",
        "import matplotlib.pyplot as plt\n",
        "import pandas as pd\n"
      ]
    },
    {
      "cell_type": "markdown",
      "metadata": {
        "id": "8FNptQ48INGf"
      },
      "source": [
        "Define DMP model parameters."
      ]
    },
    {
      "cell_type": "code",
      "execution_count": null,
      "metadata": {
        "id": "svsj3yW-_dV3"
      },
      "outputs": [],
      "source": [
        "# Model parameters\n",
        "r = (1 + 0.04)**(1/12) - 1      # interest/discount rate (monthly)\n",
        "delta = 0.02                    # separation rate (monthly)\n",
        "A = 0.25                        # matching efficiency\n",
        "eta = 0.5                       # elasticity of matching wrt unemployment\n",
        "z = 1.0                         # match productivity\n",
        "b = 0.4                         # unemployment benefits\n",
        "c = 0.8                         # vacancy posting cost\n",
        "gamma = 0.5                     # worker's relative bargaining power\n",
        "n = 0.0                         # population growth rate\n",
        "\n",
        "%whos\n"
      ]
    },
    {
      "cell_type": "markdown",
      "metadata": {
        "id": "BwTB12TwIwp_"
      },
      "source": [
        "Variable types in Python."
      ]
    },
    {
      "cell_type": "code",
      "execution_count": null,
      "metadata": {
        "id": "eoSRYc-pGgNX"
      },
      "outputs": [],
      "source": [
        "# Some Data types\n",
        "\n",
        "# float\n",
        "print(type(r))\n",
        "\n",
        "# integer\n",
        "print(type(1))\n",
        "\n",
        "# string\n",
        "print(type('allo'))\n",
        "\n",
        "# boolean\n",
        "print(type(True))\n",
        "\n",
        "# list\n",
        "xx = ['allo', 2]\n",
        "xx[0] = 'hello'\n",
        "print(type(xx))\n",
        "print(xx)\n",
        "\n",
        "# dictionary\n",
        "zz = {'string' : 'allo', 'number' : 2, b : 2}\n",
        "zz['string'] = 'hello'\n",
        "zz[b] = 0\n",
        "print(type(zz))\n",
        "print(zz)\n",
        "\n",
        "# tuple\n",
        "yy = ('allo', 2)\n",
        "print(type(yy))\n",
        "# yy[0] = 'hello' # not supported!\n",
        "\n"
      ]
    },
    {
      "cell_type": "markdown",
      "metadata": {
        "id": "NJRxX1ccKqrB"
      },
      "source": [
        "Arrays"
      ]
    },
    {
      "cell_type": "code",
      "execution_count": null,
      "metadata": {
        "id": "cRFd4crkILkQ"
      },
      "outputs": [],
      "source": [
        "# arrays\n",
        "x = np.array([1.0, 2, 3])\n",
        "y = np.array([1, 1, 1])\n",
        "print(type(x))\n",
        "print( np.matmul(x,y) )\n"
      ]
    },
    {
      "cell_type": "markdown",
      "metadata": {
        "id": "x0qvMInMK5Ij"
      },
      "source": [
        "Dictionary"
      ]
    },
    {
      "cell_type": "code",
      "execution_count": null,
      "metadata": {
        "id": "84zPlkHR_dV4"
      },
      "outputs": [],
      "source": [
        "# Build a dictionary with parameters values and param. description/interpretation\n",
        "params = {'r': [r, 'discount rate'],\n",
        "    'delta': [delta, 'separation rate'],\n",
        "    'A': [A, 'matching efficiency'],\n",
        "    'eta': [eta, 'elasticity of matching wrt unemployment'],\n",
        "    'z': [z, 'match productivity'],\n",
        "    'b': [b, 'unemployment benefits'],\n",
        "    'c': [c, 'vacancy posting cost']}\n",
        "\n",
        "# Add remaining parameters to the dictionary\n",
        "params['gamma'] = [gamma, 'worker bargaining power']\n",
        "params['n'] = [n, 'population growth rate']"
      ]
    },
    {
      "cell_type": "markdown",
      "metadata": {
        "id": "LQFv5NOgK6aZ"
      },
      "source": [
        "Data"
      ]
    },
    {
      "cell_type": "code",
      "execution_count": null,
      "metadata": {
        "id": "ClPDF5G2_dV4"
      },
      "outputs": [],
      "source": [
        "# Convert dictionary to a dataframe and print table\n",
        "param_table = pd.DataFrame.from_dict(params, orient = 'index', columns=['Value', 'Description'])\n",
        "param_table\n"
      ]
    },
    {
      "cell_type": "markdown",
      "metadata": {
        "id": "OXami1HjK8ah"
      },
      "source": [
        "Functions and graphs"
      ]
    },
    {
      "cell_type": "code",
      "execution_count": null,
      "metadata": {
        "id": "7I_MuBuG_dV5"
      },
      "outputs": [],
      "source": [
        "# Define the matching function (Cobb-Douglas)\n",
        "# and plot probability of finding a job and probability of filling a vacancy\n",
        "\n",
        "def m(u, v):\n",
        "    return A * u**eta * v**(1-eta)\n",
        "\n",
        "# probability of finding a job\n",
        "def p(theta):\n",
        "    return m(1, theta)\n",
        "\n",
        "# probability of filling a vacancy\n",
        "def q(theta):\n",
        "    return m(1/theta, 1)\n",
        "\n",
        "# plot job finding probability and job filling probability as a function of theta with the legend\n",
        "\n",
        "# compute variables\n",
        "theta = np.linspace(0.01, 2.0, 100) # define a vector of 100 uniformly spaced theta values from 0.01 to 2.5\n",
        "ptheta = 1 - np.exp(-p(theta))      # compute the monthly probability of finding a job\n",
        "qtheta = 1 - np.exp(-q(theta))      # compute the monthly probability of filling a vacancy\n",
        "\n",
        "# plot\n",
        "plt.plot(theta, ptheta, label='Job-finding prob., $1 - e^{-p(\\\\theta)}$', color='#3C33FF'  )\n",
        "plt.plot(theta, qtheta, label='Job-filling prob., $1 - e^{-q(\\\\theta)}$', color='#33CAFF'  )\n",
        "\n",
        "# legend\n",
        "plt.legend(fontsize=8, loc='upper right')\n",
        "\n",
        "# title and axis labels\n",
        "plt.title('Job finding and job filling probability as a function of the labour market tightness', fontsize=12)\n",
        "plt.xlabel('Labour-market tightness, $\\\\theta$', fontsize=10)\n",
        "plt.ylabel('Monthly probability', fontsize=10)\n",
        "\n",
        "# grid\n",
        "plt.grid(linestyle='--', linewidth=0.5)\n",
        "\n",
        "# hex color code: https://en.wikipedia.org/wiki/Web_colors\n"
      ]
    },
    {
      "cell_type": "markdown",
      "metadata": {
        "id": "31jd4HS0LB_h"
      },
      "source": [
        "Root finding"
      ]
    },
    {
      "cell_type": "code",
      "execution_count": null,
      "metadata": {
        "id": "57GFclQR_dV6"
      },
      "outputs": [],
      "source": [
        "# Find the root of a function\n",
        "# Example 1: job creation condition: find theta consistent with preset parameters\n",
        "\n",
        "# Define function for job creation condition\n",
        "def f(theta):\n",
        "    return (1-gamma)*(z - b) - (r + delta + gamma*p(theta))/q(theta) * c\n",
        "\n",
        "# plot the function f(theta)\n",
        "theta = np.linspace(0.01, 2.5, 100)\n",
        "plt.plot(theta, f(theta), label='$f(\\\\theta) = (1-\\\\gamma) (z-b) - \\\\frac{r+\\\\lambda+\\\\gamma p(\\\\theta)}{q(\\\\theta)} c$', color='#FF3333'  )\n",
        "\n",
        "# plot a horizontal line at zero\n",
        "plt.hlines(0, theta[0], theta[-1], color='black', linestyle='--', linewidth=0.5, label='Zero line')\n",
        "\n",
        "# add a legend\n",
        "plt.legend(fontsize=8, loc='upper right')\n"
      ]
    },
    {
      "cell_type": "markdown",
      "metadata": {
        "id": "3VeX-EQ5LFqq"
      },
      "source": [
        "Root finding (cont')"
      ]
    },
    {
      "cell_type": "code",
      "execution_count": null,
      "metadata": {
        "id": "ffcySMTK_dV6"
      },
      "outputs": [],
      "source": [
        "# solve for theta (given parameters) numerically\n",
        "\n",
        "# import the fsolve function from scipy.optimize\n",
        "from scipy.optimize import fsolve # alternatively, use sc.optimize.fsolve directly\n",
        "\n",
        "# find f(theta) = 0\n",
        "theta0 = 0.5 # initial guess\n",
        "print('Initial guess f value, f(theta0) = ')\n",
        "print(f(theta0))\n",
        "\n",
        "# call fsolve to find root\n",
        "theta_star = fsolve(f, theta0)\n",
        "\n",
        "# print output\n",
        "print('Root, theta* = ')\n",
        "print(theta_star)\n",
        "\n",
        "print('f value at root, f(theta*) = ')\n",
        "print(f(theta_star))\n"
      ]
    },
    {
      "cell_type": "markdown",
      "metadata": {
        "id": "pYZQ7BXnLH-5"
      },
      "source": [
        "Data importations and preparation"
      ]
    },
    {
      "cell_type": "code",
      "execution_count": null,
      "metadata": {
        "id": "74Ul-LOV_dV7"
      },
      "outputs": [],
      "source": [
        "# Working with dataframes\n",
        "\n",
        "# import U.S. unemployment and vacancy data from FRED\n",
        "\n",
        "# method 1: import from local files\n",
        "\n",
        "# cd to data directory\n",
        "import os\n",
        "data_dir = 'D:\\Dropbox\\Teaching - supervision\\ECO6193-6593 - Labour\\Python'\n",
        "os.chdir(data_dir)\n",
        "\n",
        "# Job Openings: Total Private (FRED from BLS series number JTS1000JOL; units: thousands)\n",
        "vac = pd.read_csv('JTS1000JOL.csv', index_col=0, parse_dates=True)\n",
        "\n",
        "# name column\n",
        "vac.columns = ['vacancies']\n",
        "\n",
        "# Unemployed Population: Aged 15 and over: All Persons for United States (FRED from BLS series number LFUNTTTTUSM647S; units: persons)\n",
        "unem = pd.read_csv('LFUNTTTTUSM647S.csv', index_col=0, parse_dates=True)\n",
        "unem.columns = ['unemployed']\n",
        "\n",
        "# labor force: Aged 15 and over: All Persons for United States (FRED from BLS series number CLF16OV; units: throusands)\n",
        "lf = pd.read_csv('CLF16OV.csv', index_col=0, parse_dates=True)\n",
        "lf.columns = ['labor_force']\n",
        "\n",
        "# merge dataframes\n",
        "df = pd.merge(vac, unem, left_index=True, right_index=True)\n",
        "df = pd.merge(df, lf, left_index=True, right_index=True)\n",
        "\n",
        "# harmonize units\n",
        "df['unemployed'] = df['unemployed'] / 1000\n",
        "\n",
        "# compute unemployment rate\n",
        "df['urate'] = df['unemployed'] / df['labor_force']\n",
        "\n",
        "# compute vacancy rate (vacancies / labor force)\n",
        "df['vrate'] = df['vacancies'] / df['labor_force']\n",
        "\n",
        "# compute vacancy-unemployment ratio\n",
        "df['theta'] = df['vacancies'] / df['unemployed']\n",
        "\n",
        "# show data\n",
        "df\n"
      ]
    },
    {
      "cell_type": "markdown",
      "metadata": {
        "id": "s87k_CZyLNmB"
      },
      "source": [
        "Subplots"
      ]
    },
    {
      "cell_type": "code",
      "execution_count": null,
      "metadata": {
        "id": "CVmA6l62_dV8"
      },
      "outputs": [],
      "source": [
        "# plot series\n",
        "fig, axs = plt.subplots(3, sharex=True)\n",
        "\n",
        "print(type(fig))\n",
        "print(type(axs))\n",
        "\n",
        "axs[0].plot(df['urate'])\n",
        "axs[0].set_title('a) Unemployment rate', fontsize=8)\n",
        "axs[0].grid(linestyle='--', linewidth=0.5)\n",
        "\n",
        "axs[1].plot(df['vrate'])\n",
        "axs[1].set_title('b) Vacancy-to-labor force ratio ', fontsize=8)\n",
        "axs[1].grid(linestyle='--', linewidth=0.5)\n",
        "\n",
        "axs[2].plot(df['theta'])\n",
        "axs[2].set_title('c) Vacancy-unemployment ratio', fontsize=8)\n",
        "axs[2].grid(linestyle='--', linewidth=0.5)\n",
        "\n",
        "# source\n",
        "fig.text(0.99, 0.01, 'Source: FRED and BLS', fontsize=8, horizontalalignment='right')"
      ]
    },
    {
      "cell_type": "markdown",
      "metadata": {
        "id": "P6QK_gU5LQap"
      },
      "source": [
        "Online data importation from FRED"
      ]
    },
    {
      "cell_type": "code",
      "execution_count": null,
      "metadata": {
        "id": "7KGro10J_dV9"
      },
      "outputs": [],
      "source": [
        "# method 2: import from FRED using the fredapi package\n",
        "# this requires an API key from FRED (https://fred.stlouisfed.org/docs/api/api_key.html)\n",
        "\n",
        "# install fredapi package\n",
        "# %pip install fredapi  \n",
        "\n",
        "# import fredapi package\n",
        "from fredapi import Fred\n",
        "\n",
        "# set API key\n",
        "fred = Fred(api_key='7280215dd864ebdfa031e0e8ac17be1b')\n",
        "\n",
        "# Job Openings: Total Private (FRED from BLS series number JTS1000JOL; units: thousands)\n",
        "vac = fred.get_series('JTS1000JOL')\n",
        "\n",
        "# Unemployed Population: Aged 15 and over: All Persons for United States (FRED from BLS series number LFUNTTTTUSM647S; units: persons)\n",
        "unem = fred.get_series('LFUNTTTTUSM647S')\n",
        "\n",
        "# labor force: Aged 15 and over: All Persons for United States (FRED from BLS series number CLF16OV; units: throusands)\n",
        "lf = fred.get_series('CLF16OV')\n"
      ]
    },
    {
      "cell_type": "markdown",
      "metadata": {
        "id": "bC6H5iwnLVPJ"
      },
      "source": [
        "Exercise 1: solve for vacancy costing post $c>0$ consistent with the average value of theta in U.S. data (2000-2023), using the basic DMP job creation condition. Plot the implied average costs of filling a vacancy."
      ]
    },
    {
      "cell_type": "code",
      "execution_count": null,
      "metadata": {
        "cellView": "form",
        "id": "I6sEtBC2_dV-"
      },
      "outputs": [],
      "source": [
        "# @title\n",
        "# Exercise 1: solve for vacancy posting cost consistent with the average value of theta in the data\n",
        "# and compute/plot the cost of filling a vacancy over time\n",
        "theta_avg = df['theta'].mean()\n",
        "print(theta_avg)\n",
        "\n",
        "# define a function for job posting cost given tightness\n",
        "def f(theta):\n",
        "    return q(theta)/(r + delta + gamma*p(theta)) * (1-gamma) * (z - b)\n",
        "\n",
        "# plot the function f(theta)\n",
        "theta = np.linspace(0.01, 2, 100)\n",
        "plt.plot(theta, f(theta), color='#FF3333')\n",
        "plt.vlines(theta_avg, f(theta).min(), f(theta).max(), color='black', linestyle='--', linewidth=0.5, label='Average value of $\\\\theta$')\n",
        "plt.hlines(c, theta[0], theta[-1], color='black', linestyle='--', linewidth=0.5, label='Zero line')\n",
        "\n",
        "# compute cost consistent with average theta\n",
        "c = f(theta_avg)\n",
        "\n",
        "# print result\n",
        "print('Vacancy posting cost, c = ')\n",
        "print(c)\n"
      ]
    },
    {
      "cell_type": "code",
      "execution_count": null,
      "metadata": {
        "cellView": "form",
        "id": "Xn6E05i__dV_"
      },
      "outputs": [],
      "source": [
        "# @title\n",
        "# plot the average vacancy filling cost\n",
        "plt.clf()\n",
        "vfc = c / q(df['theta'])\n",
        "plt.plot(vfc, label='Average vacancy filling cost, $c/q(\\\\theta)$', color='#FF3333')\n",
        "plt.plot(df['theta'], label='Vacancy / Unemployment', color='#33CAFF')\n",
        "plt.legend(fontsize=8, loc='upper left')\n"
      ]
    },
    {
      "cell_type": "markdown",
      "metadata": {
        "id": "732_BbC9L5RQ"
      },
      "source": [
        "Exercise 2: Plot the Empirical Beveridge Curve for (i) the full sample and (ii) the pre-COVID and post-COVID subsamples by defining a function that takes a dataframe as input and plots the Beveridge curve. Hint: use the 'plt.scatter' function."
      ]
    },
    {
      "cell_type": "code",
      "execution_count": null,
      "metadata": {
        "cellView": "form",
        "id": "hHjovy6N_dWA"
      },
      "outputs": [],
      "source": [
        "# @title\n",
        "# Exercise 2: Plot the Empirical Beveridge Curve for (i) the full sample and (ii) the pre-COVID and post-COVID subsamples\n",
        "# by defining a function that takes a dataframe as input and plots the Beveridge curve\n",
        "\n",
        "# define a function for drwaing the Beveridge curve givne the sample\n",
        "def draw_beveridge_curve(df, title):\n",
        "    plt.scatter(df['urate'], df['vrate'], s=1, color = '#3C33FF' )\n",
        "    plt.title(title, fontsize=12)\n",
        "    plt.ylabel('Vacancy/labour force (%)', fontsize=10)\n",
        "    plt.xlabel('Unemployment rate (%)', fontsize=10)\n",
        "    plt.grid(linestyle='--', linewidth=0.5)\n",
        "    plt.show()\n",
        "\n",
        "# full sample\n",
        "draw_beveridge_curve(df, 'Beveridge Curve: 2000-2023')\n"
      ]
    },
    {
      "cell_type": "code",
      "execution_count": null,
      "metadata": {
        "cellView": "form",
        "id": "k7ll4KMN_dWB"
      },
      "outputs": [],
      "source": [
        "# @title\n",
        "# pre-pandemic\n",
        "df2 = df.loc['2000-01-01':'2020-02-01']\n",
        "draw_beveridge_curve(df2, 'Beveridge Curve: 2000-2020')"
      ]
    },
    {
      "cell_type": "code",
      "execution_count": null,
      "metadata": {
        "cellView": "form",
        "id": "4m_Hi3zg_dWB"
      },
      "outputs": [],
      "source": [
        "# @title\n",
        "# post-pandemic\n",
        "df3 = df.loc['2020-03-01':]\n",
        "draw_beveridge_curve(df3, 'Beveridge Curve, post-pandemic')"
      ]
    },
    {
      "cell_type": "markdown",
      "metadata": {
        "id": "ALg_CS_YMBx6"
      },
      "source": [
        "Exercise 3: solve for the quarterly log productivity $z_t$ consistent with the quarterly averaged theta in U.S. data, as per the basic DMP job creation condition. Plot the implied log quarterly productivity along with the labour-market tightness."
      ]
    },
    {
      "cell_type": "code",
      "execution_count": null,
      "metadata": {
        "cellView": "form",
        "id": "amm9cZh4_dWC"
      },
      "outputs": [],
      "source": [
        "# @title\n",
        "# Exercise 3: solve for log productivity consistent quarterly averaged theta in the data\n",
        "\n",
        "# compute quarterly averages of data\n",
        "dfq = df.resample('Q').mean()\n",
        "\n",
        "# detrend theta with hp filter\n",
        "# %pip install statsmodels\n",
        "import statsmodels.api as sm\n",
        "from statsmodels.tsa.filters.hp_filter import hpfilter\n",
        "\n",
        "tmp = hpfilter(dfq['theta'], lamb=1600)\n",
        "dfq['theta_trend'] = tmp[1]\n",
        "dfq['theta_cycle'] = tmp[0]\n"
      ]
    },
    {
      "cell_type": "code",
      "execution_count": null,
      "metadata": {
        "cellView": "form",
        "id": "FAt22IS6_dWC"
      },
      "outputs": [],
      "source": [
        "# @title\n",
        "# define a function for productivity given theta\n",
        "def f(theta):\n",
        "    return (r + delta + gamma*p(theta))/((1-gamma)*q(theta))*c + b\n",
        "\n",
        "# Compute implied productivity using function\n",
        "dfq['implied_prod'] = f(dfq['theta'])\n",
        "\n",
        "# plot\n",
        "plt.plot(dfq['implied_prod'], label='Implied productivity', color='#FF3333')\n",
        "plt.plot(dfq['theta'], label='Log tighness', color='#33CAFF')\n",
        "plt.legend(fontsize=8, loc='upper left')\n"
      ]
    },
    {
      "cell_type": "markdown",
      "metadata": {
        "id": "_q7Isn30MfNS"
      },
      "source": [
        "Exercise 4: plot the theoretical Beveridge curve given the parameters and given theta in U.S. data."
      ]
    },
    {
      "cell_type": "code",
      "execution_count": null,
      "metadata": {
        "cellView": "form",
        "id": "LsLctESW_dWD"
      },
      "outputs": [],
      "source": [
        "# @title\n",
        "# Exercise 4: Plot the Theoretical Beveridge Curve given the parameters and given theta in the data.\n",
        "\n",
        "dfq['urate_implied'] = delta / (delta + p(dfq['theta'])) # implied unemployment rate\n",
        "dfq['vrate_implied'] = dfq['theta']*dfq['urate_implied'] # implied vacancy rate\n",
        "\n",
        "# plot the implied Beveridge curve\n",
        "plt.scatter(dfq['urate_implied'], dfq['vrate_implied'], s=1, color = '#3C33FF' )\n"
      ]
    }
  ],
  "metadata": {
    "colab": {
      "provenance": []
    },
    "kernelspec": {
      "display_name": "base",
      "language": "python",
      "name": "python3"
    },
    "language_info": {
      "codemirror_mode": {
        "name": "ipython",
        "version": 3
      },
      "file_extension": ".py",
      "mimetype": "text/x-python",
      "name": "python",
      "nbconvert_exporter": "python",
      "pygments_lexer": "ipython3",
      "version": "3.11.4"
    },
    "orig_nbformat": 4
  },
  "nbformat": 4,
  "nbformat_minor": 0
}
